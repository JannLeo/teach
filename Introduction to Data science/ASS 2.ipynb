{
 "cells": [
  {
   "cell_type": "code",
   "execution_count": 140,
   "id": "e9b056e2",
   "metadata": {},
   "outputs": [
    {
     "name": "stdout",
     "output_type": "stream",
     "text": [
      "Columns name:  Index(['StudentID', 'Age', 'StudyTimeWeekly', 'Absences', 'ParentalSupport',\n",
      "       'GPA', 'GradeClass'],\n",
      "      dtype='object')\n"
     ]
    }
   ],
   "source": [
    "import pandas as pd\n",
    "\n",
    "data = pd.read_csv('Student_List_A2.csv')\n",
    "\n",
    "print(\"Columns name: \", data.columns)"
   ]
  },
  {
   "cell_type": "code",
   "execution_count": 141,
   "id": "69549ad2",
   "metadata": {},
   "outputs": [],
   "source": [
    "import pandas as pd\n",
    "\n",
    "file = 'Student_List_A2.csv'\n",
    "\n",
    "data = pd.read_csv('Student_List_A2.csv')\n",
    "\n",
    "grade_mapping = {0: 'A', 1: 'B', 2: 'C', 3: 'D', 4: 'F'}   #Create dictionary to change letter from number \n",
    "\n",
    "data['GradeClass'] = data['GradeClass'].map(grade_mapping).astype(str)  #use map function change 'gradeclass'column and chage it to string\n",
    "\n",
    "data.to_csv(file, index=False)"
   ]
  },
  {
   "cell_type": "code",
   "execution_count": 142,
   "id": "1021131c",
   "metadata": {},
   "outputs": [],
   "source": [
    "import pandas as pd       #cannot be run alone. need to run the code of A1.2 before running it\n",
    "\n",
    "file = 'Student_List_A2.csv'\n",
    "\n",
    "data = pd.read_csv('Student_List_A2.csv')\n",
    "\n",
    "grade_start = {'A': 0, 'B': 1, 'C': 2, 'D': 3, 'F': 4}     #change gradeclass column to number again \n",
    "\n",
    "data['GradeClass'] = data['GradeClass'].map(grade_start)   #if this column doesn't change back to the number then will disappear\n",
    "\n",
    "column = data.select_dtypes(include=[np.number]).columns   #use the select_dtypes to filter out columns and store in 'column' variable\n",
    "\n",
    "data[numeric_cols] = data[column].fillna(data[column].median())  #use median to fill in\n",
    "\n",
    "grade_mapping = {0: 'A', 1: 'B', 2: 'C', 3: 'D', 4: 'F'}   #change back to letter\n",
    "\n",
    "data['GradeClass'] = data['GradeClass'].map(grade_mapping).astype(str)\n",
    "\n",
    "data.to_csv(file, index=False)"
   ]
  },
  {
   "cell_type": "code",
   "execution_count": 144,
   "id": "72a8300b",
   "metadata": {},
   "outputs": [],
   "source": [
    "import pandas as pd\n",
    "\n",
    "file = 'Student_List_A2.csv'\n",
    "\n",
    "data = pd.read_csv('Student_List_A2.csv')\n",
    "\n",
    "data = data[data['Absences'] <= 50]     #give a range so that the data is not outrageous \n",
    "\n",
    "data.to_csv(file, index=False)"
   ]
  },
  {
   "cell_type": "code",
   "execution_count": 145,
   "id": "7b3d6674",
   "metadata": {},
   "outputs": [],
   "source": [
    "import pandas as pd\n",
    "\n",
    "file = 'Student_List_A2.csv'\n",
    "\n",
    "data = pd.read_csv('Student_List_A2.csv')\n",
    "\n",
    "def choose_data(row):       #set a function that uses if-loop to select data that does not satisfy the condition\n",
    "    if row['GradeClass'] == 'A' and row['GPA'] >= 3.5:\n",
    "        return True\n",
    "    elif row['GradeClass'] == 'B' and 3.0 <= row['GPA'] < 3.5:\n",
    "        return True\n",
    "    elif row['GradeClass'] == 'C' and 2.5 <= row['GPA'] < 3.0:\n",
    "        return True\n",
    "    elif row['GradeClass'] == 'D' and 2.0 <= row['GPA'] < 2.5:\n",
    "        return True\n",
    "    elif row['GradeClass'] == 'F' and row['GPA'] < 2.0:\n",
    "        return True\n",
    "    else:\n",
    "        return False\n",
    "\n",
    "new_data = data[data.apply(choose_data, axis=1)]  #use apply to apply the selection function to each row of data\n",
    "\n",
    "new_data.to_csv(file, index=False)"
   ]
  },
  {
   "cell_type": "code",
   "execution_count": null,
   "id": "bcceab20",
   "metadata": {},
   "outputs": [],
   "source": [
    "import pandas as pd\n",
    "from sklearn.model_selection import train_test_split\n",
    "\n",
    "data = pd.read_csv('Student_List_A2.csv')\n",
    "\n",
    "X = data.drop(columns=['StudentID', 'GradeClass', 'GPA'])    #delete useless columns\n",
    "Y = data['GradeClass']      #extract the target variable Y\n",
    "\n",
    "X_train, X_test, Y_train, Y_test = train_test_split(X, Y, test_size=0.2, random_state=42) \n",
    "# use the train_test_split function to divide the data set into training and test sets\n",
    "\n",
    "scaler = StandardScaler()    #data standardization\n",
    "X_train_scaled = scaler.fit_transform(X_train)   #the mean and standard deviation of the training set are calculated and normalized\n",
    "X_test_scaled = scaler.transform(X_test)         #standardize the test set"
   ]
  },
  {
   "cell_type": "code",
   "execution_count": 146,
   "id": "f29bb38c",
   "metadata": {},
   "outputs": [
    {
     "name": "stdout",
     "output_type": "stream",
     "text": [
      "Confusion matrix of 5x5:\n",
      "[[  0  11   0   0   0]\n",
      " [  0  26  15   0   0]\n",
      " [  0  11  32  10   1]\n",
      " [  0   0  15  43  12]\n",
      " [  0   0   0  15 209]]\n",
      "Accuracy of SVM model: 0.78\n"
     ]
    }
   ],
   "source": [
    "import pandas as pd\n",
    "from sklearn.model_selection import train_test_split\n",
    "from sklearn.preprocessing import StandardScaler\n",
    "from sklearn.svm import SVC\n",
    "from sklearn.metrics import confusion_matrix, accuracy_score\n",
    "\n",
    "data = pd.read_csv('Student_List_A2.csv')\n",
    "\n",
    "X = data.drop(columns=['StudentID', 'GradeClass', 'GPA']) \n",
    "Y = data['GradeClass']\n",
    "\n",
    "X_train, X_test, Y_train, Y_test = train_test_split(X, Y, test_size=0.2, random_state=100)\n",
    "\n",
    "scaler = StandardScaler()\n",
    "X_train_scaled = scaler.fit_transform(X_train)\n",
    "X_test_scaled = scaler.transform(X_test)\n",
    "\n",
    "svm_model = SVC(kernel='linear', random_state=42)     #choose the SVM model and choose the linear kernel\n",
    "svm_model.fit(X_train_scaled, Y_train)                \n",
    "\n",
    "Y_predict = svm_model.predict(X_test_scaled)          #use the trained model to make predict on the test\n",
    "\n",
    "matrix = confusion_matrix(Y_test, Y_predict, labels=['A', 'B', 'C', 'D', 'F'])   #calculate the confusion matrix and determine the matrix order\n",
    "\n",
    "print(\"Confusion matrix of 5x5:\")\n",
    "print(matrix)       #print matrix\n",
    "\n",
    "accuracy = accuracy_score(Y_test, Y_predict)     #computational accuracy\n",
    "print(f\"Accuracy of SVM model: {accuracy:.2f}\")"
   ]
  },
  {
   "cell_type": "code",
   "execution_count": 148,
   "id": "afccbcfe",
   "metadata": {},
   "outputs": [
    {
     "name": "stdout",
     "output_type": "stream",
     "text": [
      "Confusion matrix of 5x5:\n",
      " [[  7   4   0   0   0]\n",
      " [  6  10  14   0   0]\n",
      " [  1  20  25  14   0]\n",
      " [  0   1  20  38  17]\n",
      " [  0   0   1  14 208]]\n",
      "Accuracy of decision tree model: 0.72\n"
     ]
    }
   ],
   "source": [
    "import pandas as pd\n",
    "from sklearn.model_selection import train_test_split\n",
    "from sklearn.preprocessing import StandardScaler\n",
    "from sklearn.tree import DecisionTreeClassifier\n",
    "from sklearn.metrics import classification_report, confusion_matrix, accuracy_score\n",
    "\n",
    "file = 'Student_List_A2.csv'\n",
    "data = pd.read_csv('Student_List_A2.csv')\n",
    "\n",
    "X = data.drop(columns=['StudentID', 'GradeClass', 'GPA'])  \n",
    "Y = data['GradeClass']  \n",
    "\n",
    "X_train, X_test, Y_train, Y_test = train_test_split(X, Y, test_size=0.2, random_state=44)\n",
    "\n",
    "scaler = StandardScaler()\n",
    "X_train_scaled = scaler.fit_transform(X_train)\n",
    "X_test_scaled = scaler.transform(X_test)\n",
    "\n",
    "DecisionTree = DecisionTreeClassifier(random_state=45)   #create a decision tree model\n",
    "\n",
    "DecisionTree.fit(X_train_scaled, Y_train)       #using decision trees mod on a training set\n",
    "\n",
    "Y_predict = dt_model.predict(X_test_scaled)     #use trained model to make predict on the test\n",
    "\n",
    "print(\"Confusion matrix of 5x5:\\n\", confusion_matrix(Y_test, Y_predict))      #print matrix\n",
    "print(\"Accuracy of decision tree model:\", accuracy_score(Y_test, Y_predict))     #computational accuracy"
   ]
  },
  {
   "cell_type": "code",
   "execution_count": 149,
   "id": "fe90ed8f",
   "metadata": {},
   "outputs": [],
   "source": [
    "import pandas as pd\n",
    "from sklearn.model_selection import train_test_split\n",
    "from sklearn.preprocessing import StandardScaler\n",
    "from sklearn.svm import SVC\n",
    "from sklearn.metrics import confusion_matrix, accuracy_score\n",
    "\n",
    "data = pd.read_csv('Student_List_A2.csv')\n",
    "\n",
    "X = data.drop(columns=['StudentID', 'GradeClass', 'GPA'])  \n",
    "Y = data['GradeClass']  \n",
    "\n",
    "scaler = StandardScaler()\n",
    "X_train_scaled = scaler.fit_transform(X)\n",
    "\n",
    "svm_model = SVC(kernel='linear', random_state=42)\n",
    "svm_model.fit(X_train_scaled, Y)\n",
    "\n",
    "new_data = pd.read_csv('Student_List_A2_Submission.csv')\n",
    "\n",
    "X_new = new_data.drop(columns=['StudentID'])     #remove useless columns\n",
    "\n",
    "X_new_scaled = scaler.transform(X_new)    #standardize the new data, using the parameters previously trained\n",
    "\n",
    "new_predict = svm_model.predict(X_new_scaled)   #make predict about new data\n",
    "\n",
    "new_print = pd.DataFrame({                 #columns to save\n",
    "    'StudentID': new_data['StudentID'],  \n",
    "    'GradeClass': new_predict        \n",
    "})\n",
    "\n",
    "new_print.to_csv('Student_List_A2_Predictions.csv', index=False)   #save the result to a new csv file"
   ]
  },
  {
   "cell_type": "code",
   "execution_count": 150,
   "id": "4552b0f7",
   "metadata": {},
   "outputs": [
    {
     "name": "stdout",
     "output_type": "stream",
     "text": [
      "\n",
      "Check for missing values：\n",
      "Year                                   0\n",
      "Company                                0\n",
      "Category                               0\n",
      "Market Cap(in B USD)                   1\n",
      "Revenue                                0\n",
      "Gross Profit                           0\n",
      "Net Income                             0\n",
      "Earning Per Share                      0\n",
      "EBITDA                                 0\n",
      "Share Holder Equity                    0\n",
      "Cash Flow from Operating               0\n",
      "Cash Flow from Investing               0\n",
      "Cash Flow from Financial Activities    0\n",
      "Current Ratio                          0\n",
      "Debt/Equity Ratio                      0\n",
      "ROE                                    0\n",
      "ROA                                    0\n",
      "ROI                                    0\n",
      "Net Profit Margin                      0\n",
      "Free Cash Flow per Share               0\n",
      "Return on Tangible Equity              0\n",
      "Number of Employees                    0\n",
      "Inflation Rate(in US)                  0\n",
      "dtype: int64\n",
      "\n",
      "Missing value after processing：\n",
      "Year                                   0\n",
      "Company                                0\n",
      "Category                               0\n",
      "Market Cap(in B USD)                   0\n",
      "Revenue                                0\n",
      "Gross Profit                           0\n",
      "Net Income                             0\n",
      "Earning Per Share                      0\n",
      "EBITDA                                 0\n",
      "Share Holder Equity                    0\n",
      "Cash Flow from Operating               0\n",
      "Cash Flow from Investing               0\n",
      "Cash Flow from Financial Activities    0\n",
      "Current Ratio                          0\n",
      "Debt/Equity Ratio                      0\n",
      "ROE                                    0\n",
      "ROA                                    0\n",
      "ROI                                    0\n",
      "Net Profit Margin                      0\n",
      "Free Cash Flow per Share               0\n",
      "Return on Tangible Equity              0\n",
      "Number of Employees                    0\n",
      "Inflation Rate(in US)                  0\n",
      "dtype: int64\n"
     ]
    },
    {
     "data": {
      "image/png": "[encoded data removed]",
      "text/plain": [
       "<Figure size 720x432 with 1 Axes>"
      ]
     },
     "metadata": {
      "needs_background": "light"
     },
     "output_type": "display_data"
    }
   ],
   "source": [
    "import pandas as pd\n",
    "from sklearn.cluster import KMeans\n",
    "from sklearn.preprocessing import StandardScaler\n",
    "import matplotlib.pyplot as plt\n",
    "import seaborn as sns\n",
    "\n",
    "data = pd.read_csv('Financial Statements.csv')    #read csv file\n",
    "\n",
    "print(\"\\nCheck for missing values：\")    #checks for missing values and outputs the missing number for each row\n",
    "print(data.isnull().sum())           \n",
    "\n",
    "data.dropna(inplace=True)        #delete all rows that contain missing values\n",
    "\n",
    "data.to_csv('Financial Statements_new.csv', index=False)    #save the processed data to a new csv file\n",
    "\n",
    "print(\"\\nMissing value after processing：\")\n",
    "print(data.isnull().sum())       #check for missing values again, make sure no missing value\n",
    "\n",
    "X = data[['Revenue', 'Net Income']]     #select two columns\n",
    "\n",
    "scaler = StandardScaler()        #standardized data\n",
    "X_scaled = scaler.fit_transform(X)\n",
    "\n",
    "kmeans = KMeans(n_clusters=3, random_state=42)     #create the KMeans clustering model and set the number to 3\n",
    "kmeans.fit(X_scaled)\n",
    "\n",
    "data['Cluster'] = kmeans.labels_      #adds cluster labels to the raw data set\n",
    "\n",
    "plt.figure(figsize=(10, 6))\n",
    "sns.scatterplot(x='Revenue', y='Net Income', hue='Cluster', data=data, palette='Set1', s=100)\n",
    "plt.title('K-Means center:Revenue vs Net Income')\n",
    "plt.xlabel('Revenue')\n",
    "plt.ylabel('Net Income')\n",
    "plt.show()"
   ]
  },
  {
   "cell_type": "code",
   "execution_count": null,
   "id": "1f04dc8a",
   "metadata": {},
   "outputs": [],
   "source": []
  }
 ],
 "metadata": {
  "kernelspec": {
   "display_name": "Python 3 (ipykernel)",
   "language": "python",
   "name": "python3"
  },
  "language_info": {
   "codemirror_mode": {
    "name": "ipython",
    "version": 3
   },
   "file_extension": ".py",
   "mimetype": "text/x-python",
   "name": "python",
   "nbconvert_exporter": "python",
   "pygments_lexer": "ipython3",
   "version": "3.9.12"
  }
 },
 "nbformat": 4,
 "nbformat_minor": 5
}
